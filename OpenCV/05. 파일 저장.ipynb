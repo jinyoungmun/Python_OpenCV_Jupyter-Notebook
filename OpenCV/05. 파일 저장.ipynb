{
 "cells": [
  {
   "cell_type": "markdown",
   "id": "80214b3f",
   "metadata": {},
   "source": [
    "# 5. 파일 저장"
   ]
  },
  {
   "cell_type": "markdown",
   "id": "f0f42b5a",
   "metadata": {},
   "source": [
    "## 이미지 저장"
   ]
  },
  {
   "cell_type": "code",
   "execution_count": 1,
   "id": "fd9c3dd4",
   "metadata": {},
   "outputs": [
    {
     "name": "stdout",
     "output_type": "stream",
     "text": [
      "True\n"
     ]
    }
   ],
   "source": [
    "import cv2\n",
    "img = cv2.imread('img.jpg', cv2.IMREAD_GRAYSCALE) # 흑백으로 이미지 불러오기\n",
    "cv2.imshow('img', img)\n",
    "cv2.waitKey(0)\n",
    "cv2.destroyAllWindows()\n",
    "\n",
    "result = cv2.imwrite('img_save.jpg', img)\n",
    "print(result)"
   ]
  },
  {
   "cell_type": "markdown",
   "id": "d35fd96f",
   "metadata": {},
   "source": [
    "## 저장 포맷 (jpg, png)"
   ]
  },
  {
   "cell_type": "code",
   "execution_count": 1,
   "id": "bd62f2c4",
   "metadata": {},
   "outputs": [
    {
     "data": {
      "text/plain": [
       "True"
      ]
     },
     "execution_count": 1,
     "metadata": {},
     "output_type": "execute_result"
    }
   ],
   "source": [
    "import cv2\n",
    "img = cv2.imread('img.jpg', cv2.IMREAD_GRAYSCALE) # 흑백으로 이미지 불러오기\n",
    "cv2.imwrite('img_save.png', img) # png 형태로 저장"
   ]
  },
  {
   "cell_type": "markdown",
   "id": "040d232c",
   "metadata": {},
   "source": [
    "## 동영상 저장"
   ]
  },
  {
   "cell_type": "code",
   "execution_count": 6,
   "id": "fdd787d7",
   "metadata": {},
   "outputs": [],
   "source": [
    "import cv2\n",
    "cap = cv2.VideoCapture('video.mp4')\n",
    "\n",
    "# 코덱 정의\n",
    "fourcc = cv2.VideoWriter_fourcc(*'DIVX')\n",
    "\n",
    "width = round(cap.get(cv2.CAP_PROP_FRAME_WIDTH))\n",
    "height = round(cap.get(cv2.CAP_PROP_FRAME_HEIGHT))\n",
    "fps = cap.get(cv2.CAP_PROP_FPS)\n",
    "\n",
    "out = cv2.VideoWriter('output.avi', fourcc, fps, (width, height))\n",
    "\n",
    "while cap.isOpened():\n",
    "    ret, frame = cap.read()\n",
    "    if not ret:\n",
    "        break\n",
    "    \n",
    "    cv2.imshow('video', frame)\n",
    "    if cv2.waitKey(1) == ord('q'):\n",
    "        break\n",
    "        \n",
    "cap.release()\n",
    "cv2.destroyAllWindows()"
   ]
  }
 ],
 "metadata": {
  "kernelspec": {
   "display_name": "Python 3 (ipykernel)",
   "language": "python",
   "name": "python3"
  },
  "language_info": {
   "codemirror_mode": {
    "name": "ipython",
    "version": 3
   },
   "file_extension": ".py",
   "mimetype": "text/x-python",
   "name": "python",
   "nbconvert_exporter": "python",
   "pygments_lexer": "ipython3",
   "version": "3.9.12"
  }
 },
 "nbformat": 4,
 "nbformat_minor": 5
}
